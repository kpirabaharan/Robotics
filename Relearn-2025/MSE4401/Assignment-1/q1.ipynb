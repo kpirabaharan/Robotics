{
 "cells": [
  {
   "cell_type": "code",
   "execution_count": 114,
   "metadata": {},
   "outputs": [],
   "source": [
    "import sympy as sp"
   ]
  },
  {
   "cell_type": "code",
   "execution_count": 115,
   "metadata": {},
   "outputs": [],
   "source": [
    "# Compute the transformation matrix for a given DH parameters\n",
    "def transform(dh: sp.Matrix) -> sp.Matrix:\n",
    "    alpha = sp.rad(dh[0])\n",
    "    a = dh[1]\n",
    "    d = dh[2]\n",
    "    theta = sp.rad(dh[3])\n",
    "\n",
    "    return sp.Matrix(\n",
    "        [\n",
    "            [sp.cos(theta), -sp.sin(theta), 0, a],\n",
    "            [\n",
    "                sp.sin(theta) * sp.cos(alpha),\n",
    "                sp.cos(theta) * sp.cos(alpha),\n",
    "                -sp.sin(alpha),\n",
    "                -sp.sin(alpha) * d,\n",
    "            ],\n",
    "            [\n",
    "                sp.sin(theta) * sp.sin(alpha),\n",
    "                sp.cos(theta) * sp.sin(alpha),\n",
    "                sp.cos(alpha),\n",
    "                sp.cos(alpha) * d,\n",
    "            ],\n",
    "            [0, 0, 0, 1],\n",
    "        ]\n",
    "    )    \n",
    "\n"
   ]
  },
  {
   "cell_type": "code",
   "execution_count": 116,
   "metadata": {},
   "outputs": [],
   "source": [
    "# Compute the transformation matrix from the wrist to the base\n",
    "def wrist_to_base(dh: sp.Matrix) -> sp.Matrix:\n",
    "    N = dh.rows\n",
    "    T = sp.eye(4)\n",
    "    for i in range(N):\n",
    "        T = T * transform(dh[i, :])\n",
    "    return sp.simplify(T).evalf(2)"
   ]
  },
  {
   "cell_type": "code",
   "execution_count": 117,
   "metadata": {},
   "outputs": [
    {
     "name": "stdout",
     "output_type": "stream",
     "text": [
      "⎡ 0   0   0.4    9.22 ⎤\n",
      "⎢                     ⎥\n",
      "⎢-90  0   0.1    115.1⎥\n",
      "⎢                     ⎥\n",
      "⎣90   0  0.3536    0  ⎦\n"
     ]
    }
   ],
   "source": [
    "h = 0.4\n",
    "r = 0.1\n",
    "t1 = 9.22\n",
    "t2 = 115.1\n",
    "f = 0.3536\n",
    "\n",
    "dh = sp.Matrix([[0, 0, h, t1], [-90, 0, r, t2], [90, 0, f, 0]])\n",
    "sp.pprint(dh)"
   ]
  },
  {
   "cell_type": "code",
   "execution_count": 118,
   "metadata": {},
   "outputs": [
    {
     "name": "stdout",
     "output_type": "stream",
     "text": [
      "⎡-0.42   -0.16  0.89   0.3 ⎤\n",
      "⎢                          ⎥\n",
      "⎢-0.068  0.99   0.15   0.15⎥\n",
      "⎢                          ⎥\n",
      "⎢-0.91     0    -0.42  0.25⎥\n",
      "⎢                          ⎥\n",
      "⎣  0       0      0    1.0 ⎦\n"
     ]
    }
   ],
   "source": [
    "w_b = wrist_to_base(dh)\n",
    "sp.pprint(w_b)"
   ]
  },
  {
   "cell_type": "markdown",
   "metadata": {},
   "source": [
    "# Answer Looks Good"
   ]
  }
 ],
 "metadata": {
  "kernelspec": {
   "display_name": "robotics",
   "language": "python",
   "name": "python3"
  },
  "language_info": {
   "codemirror_mode": {
    "name": "ipython",
    "version": 3
   },
   "file_extension": ".py",
   "mimetype": "text/x-python",
   "name": "python",
   "nbconvert_exporter": "python",
   "pygments_lexer": "ipython3",
   "version": "3.9.21"
  }
 },
 "nbformat": 4,
 "nbformat_minor": 2
}
